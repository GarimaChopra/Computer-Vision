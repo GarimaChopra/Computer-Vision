{
  "nbformat": 4,
  "nbformat_minor": 0,
  "metadata": {
    "colab": {
      "name": "comparisionHomework.ipynb",
      "provenance": [],
      "collapsed_sections": [],
      "toc_visible": true
    },
    "kernelspec": {
      "name": "python3",
      "display_name": "Python 3"
    }
  },
  "cells": [
    {
      "cell_type": "markdown",
      "metadata": {
        "id": "TKz_3EJdKZf8",
        "colab_type": "text"
      },
      "source": [
        "---\n",
        "---\n",
        "# Comparison Homework\n",
        "## Name: Garima Chopra\n",
        "#### file: comparisonHomework.ipynb\n",
        "#### students may with to start at https://colab.research.google.com/notebooks/intro.ipynb\n",
        "#### Copyright © George J. Grevera, 2020. All rights reserved.\n",
        "---\n",
        "---"
      ]
    },
    {
      "cell_type": "markdown",
      "metadata": {
        "id": "YEeEK5O73-Dc",
        "colab_type": "text"
      },
      "source": [
        "Let's explore some tradional approaches to comparing two signals/samples/arrays. Let $A$ and $B$ be two vectors (i.e., 1D arrays) of dimensionality (i.e., number of components or simply length) $d = len(A) = len(B)$. You may think of an array of values, $A$, as a point in $d$-dimensional space.\n",
        "\n",
        "- Define max absolute difference \n",
        "$maxAD(A,B) = \\max{ {|a_i-b_i|} }$.\n",
        "\n",
        "- It is often useful to determine \"where\" the max(es) is/are, so define (the set) $argmaxAD(A,B) = \\{ i \\ |\\  \\forall j \\ |a_j-b_j| <= |a_i-b_i| \\}$ (see https://en.wikipedia.org/wiki/Arg_max).\n",
        "\n",
        "- Define sum of absolute difference $SAD = \\sum_{i}{ |a_i-b_i| }$, \n",
        "\n",
        "- Define sum of squared difference $SSD = \\sum_{i}{ (a_i-b_i)^2 }$.\n",
        "\n",
        "- They (i.e., the vectors $A$ and $B$) can also be viewed as two points in $d$-dimensional space as well. The Euclidean distance between two points in 2d is $euc_{2d}(A,B) = \\sqrt{(a_1-b_1)^2 + (a_2-b_2)^2}$, and this generalizes to $euc(A,B) = \\sqrt{\\sum_{i}{(a_i-b_i)^2}}$. Define the general $euc(A,B)$.\n",
        "\n",
        "- Define mean absolute difference $uAD(A,B) = SAD(A,B) / d$.\n",
        "\n",
        "- Define mean squared difference $uSD(A,B) = SSD(A,B) / d$.\n",
        "\n",
        "- Define root mean squared difference $rmsd(A,B) = \\sqrt{ uSD(A,B) }$.\n",
        "\n",
        "- Define a function called $vLen(A)$ that returns the length of the vector, $A$. (Hint: The length of a vector is its distance from the origin). It must use at least one of your above functions.\n",
        "\n",
        "Complete the Python functions below. For full credit, please note the following.\n",
        "- __Other than len(), math.sqrt(), abs(), and append(), do not use any other Python function except for the ones that you define below.__ \n",
        "- Try to use your own functions that you define as much as possible. \n",
        "- As always, do not cut-n-paste things that you stumble upon on the internet and certainly do not hand in each other's code. \n",
        "- If there is a discrepancy between the above equations and ones that you find on the internet, please bring it to my attention. Do not ignore those above the above and implement something else."
      ]
    },
    {
      "cell_type": "markdown",
      "metadata": {
        "id": "ahcjvMFl2_Ls",
        "colab_type": "text"
      },
      "source": [
        "### Extra Credit\n",
        "For extra credit, define pcc(A,B) which calculates Pearson correlation coefficient (see https://en.wikipedia.org/wiki/Pearson_correlation_coefficient):\n",
        "\n",
        "$ \\large \n",
        "p_{A,B} = \\frac {cov(A,B)} {\\sigma_A \\sigma_B} = \\frac {E[(A-\\mu_A)(B-\\mu_B)]} {\\sigma_A \\sigma_B}$.\n",
        "\n",
        "Do not use another Python functions other than len(), math.sqrt(), abs(), and append(). (You may use your own.)"
      ]
    },
    {
      "cell_type": "markdown",
      "metadata": {
        "id": "b5BSzSAnElY0",
        "colab_type": "text"
      },
      "source": [
        "---"
      ]
    },
    {
      "cell_type": "markdown",
      "metadata": {
        "id": "E_LqgJAJ50kh",
        "colab_type": "text"
      },
      "source": [
        "### Answers"
      ]
    },
    {
      "cell_type": "code",
      "metadata": {
        "id": "KG6NnQLn-w17",
        "colab_type": "code",
        "colab": {}
      },
      "source": [
        "#you may import anything you wish but only use the functions mentioned above.\n",
        "import math"
      ],
      "execution_count": 0,
      "outputs": []
    },
    {
      "cell_type": "code",
      "metadata": {
        "id": "GK2iG082c7yc",
        "colab_type": "code",
        "colab": {}
      },
      "source": [
        "def maxAD ( A, B ):\n",
        "   if (len(A)==len(B)):\n",
        "        max_diff=0\n",
        "        for i in range( 0, len(A)): \n",
        "            diff=abs(A[i]-B[i])\n",
        "            if (diff>max_diff):\n",
        "                max_diff=diff\n",
        "        return max_diff\n",
        "   else:\n",
        "      print(\"List index is out of range, size of array must be same\")\n",
        "      return None"
      ],
      "execution_count": 0,
      "outputs": []
    },
    {
      "cell_type": "code",
      "metadata": {
        "id": "cXtXI_IddY7a",
        "colab_type": "code",
        "colab": {}
      },
      "source": [
        "def argmaxAD ( A, B ):\n",
        "    if (len(A)==len(B)):\n",
        "        args=[]\n",
        "        max_diff=maxAD(A,B)\n",
        "        for i in range( 0, len(A)): \n",
        "            diff=abs(A[i]-B[i])\n",
        "            if (diff==max_diff):\n",
        "                args.append(i)\n",
        "        return args\n",
        "    else:\n",
        "      print(\"List index is out of range, size of array must be same\")\n",
        "      return None"
      ],
      "execution_count": 0,
      "outputs": []
    },
    {
      "cell_type": "code",
      "metadata": {
        "id": "4lqaNmCSdZtL",
        "colab_type": "code",
        "colab": {}
      },
      "source": [
        "def SAD ( A, B ):\n",
        "   if (len(A)==len(B)):\n",
        "        s=0\n",
        "        for i in range( 0, len(A)): \n",
        "            s=s+abs(A[i]-B[i])     \n",
        "        return s\n",
        "   else:\n",
        "      print(\"List index is out of range, size of array must be same\")\n",
        "      return None"
      ],
      "execution_count": 0,
      "outputs": []
    },
    {
      "cell_type": "code",
      "metadata": {
        "id": "iTWEJdgndasO",
        "colab_type": "code",
        "colab": {}
      },
      "source": [
        "def SSD ( A, B ):\n",
        "    if (len(A)==len(B)):\n",
        "        s=0\n",
        "        for i in range( 0, len(A)): \n",
        "            s=s+((A[i]-B[i]) * (A[i]-B[i]))\n",
        "        return s\n",
        "    else:\n",
        "      print(\"List index is out of range, size of array must be same\")\n",
        "      return None"
      ],
      "execution_count": 0,
      "outputs": []
    },
    {
      "cell_type": "code",
      "metadata": {
        "id": "R_Zal7ckdphS",
        "colab_type": "code",
        "colab": {}
      },
      "source": [
        "def euc ( A, B ):\n",
        "  if (len(A)==len(B)):\n",
        "    euc=SSD(A,B)\n",
        "    return math.sqrt(euc)\n",
        "  else:\n",
        "      print(\"List index is out of range, size of array must be same\")\n",
        "      return None"
      ],
      "execution_count": 0,
      "outputs": []
    },
    {
      "cell_type": "code",
      "metadata": {
        "id": "v5xoOvHJds7v",
        "colab_type": "code",
        "colab": {}
      },
      "source": [
        "def uAD ( A, B ):\n",
        "  if (len(A)==len(B)):\n",
        "      sad=SAD(A,B)\n",
        "      if (len(A)!= 0):\n",
        "        uad=sad/len(A)\n",
        "      else:\n",
        "        uad=0\n",
        "      return uad\n",
        "  else:\n",
        "      print(\"List index is out of range, size of array must be same\")\n",
        "      return None"
      ],
      "execution_count": 0,
      "outputs": []
    },
    {
      "cell_type": "code",
      "metadata": {
        "id": "8WuAF_gid0IY",
        "colab_type": "code",
        "colab": {}
      },
      "source": [
        "def uSD ( A, B ):\n",
        "  if (len(A)==len(B)):\n",
        "    ssd=SSD(A,B)\n",
        "    if (len(A)!= 0):\n",
        "      usd=ssd/len(A)\n",
        "    else:\n",
        "      usd=0\n",
        "    return usd\n",
        "  else:\n",
        "      print(\"List index is out of range, size of array must be same\")\n",
        "      return None"
      ],
      "execution_count": 0,
      "outputs": []
    },
    {
      "cell_type": "code",
      "metadata": {
        "id": "koa4XS5mfDMh",
        "colab_type": "code",
        "colab": {}
      },
      "source": [
        "def rmsd ( A, B ):\n",
        "  if (len(A)==len(B)):\n",
        "   usd=uSD(A,B)\n",
        "   return math.sqrt(usd)\n",
        "  else:\n",
        "      print(\"List index is out of range, size of array must be same\")\n",
        "      return None"
      ],
      "execution_count": 0,
      "outputs": []
    },
    {
      "cell_type": "code",
      "metadata": {
        "id": "jPcFfIpwAxrZ",
        "colab_type": "code",
        "colab": {}
      },
      "source": [
        "def vLen ( A ):\n",
        "  if (len(A)!= 0):\n",
        "    B=[]\n",
        "    for i in range( 0, len(A)):\n",
        "     B.append(0)\n",
        "    return (euc(A,B))\n",
        "  else:\n",
        "      print(\"Array is empty\")\n",
        "      return None"
      ],
      "execution_count": 0,
      "outputs": []
    },
    {
      "cell_type": "code",
      "metadata": {
        "id": "DK2C67Ma6KqD",
        "colab_type": "code",
        "colab": {}
      },
      "source": [
        "#extra credit\n",
        "def pcc ( A, B ):\n",
        "  if (len(A)==len(B)):\n",
        "    meanA=0\n",
        "    meanB=0\n",
        "    S1=0 #standard deviation of A\n",
        "    S2=0 #standard deviation of B\n",
        "    P=0  #sum of product for values of (A-mean) (B-mean)\n",
        "    if len(A)== 0:\n",
        "      print(\"Array is empty\")\n",
        "      return None\n",
        "    else:\n",
        "      for i in range (0 ,len(A)):\n",
        "        meanA=meanA+A[i]\n",
        "        meanB=meanB+B[i]\n",
        "      meanA=meanA/len(A)\n",
        "      meanB=meanB/len(B)\n",
        "      for i in range( 0,len(A)): \n",
        "         x=(A[i]-meanA) \n",
        "         S1=S1+(x*x)\n",
        "         y=(B[i]-meanB)\n",
        "         S2=S2+(y*y)\n",
        "         P=P+(x*y) #sum of product for values of (A-mean) (B-mean)\n",
        "      S1=math.sqrt(S1/len(A)-1) #standard deviation of A (applying correction)\n",
        "      S2=math.sqrt(S2/len(B)-1) #standard deviation of B (applying correction)\n",
        "      covariance=P/len(A)-1   # using denominator N-1 as we are using a sample subset not entire population\n",
        "      pcc=covariance/( S1 * S2)\n",
        "    return pcc\n",
        "  else:\n",
        "      print(\"List index is out of range, size of array must be same\")\n",
        "      return None"
      ],
      "execution_count": 0,
      "outputs": []
    },
    {
      "cell_type": "markdown",
      "metadata": {
        "id": "y46VpR1yEZcg",
        "colab_type": "text"
      },
      "source": [
        "---\n",
        "\n",
        "### Enter your tests here."
      ]
    },
    {
      "cell_type": "code",
      "metadata": {
        "id": "RMs_uMdItfgl",
        "colab_type": "code",
        "outputId": "ea389e6f-5c70-4928-d371-c027a1c9af0e",
        "colab": {
          "base_uri": "https://localhost:8080/",
          "height": 204
        }
      },
      "source": [
        "# here's a start.\n",
        "A = [1,2,3,4]\n",
        "B = [10, 20, 3, 4]\n",
        "\n",
        "print( 'maxAD(A,A) = ', maxAD(A,A), sep='' )\n",
        "print( 'maxAD(A,B) = ', maxAD(A,B), sep='' )\n",
        "print( 'argmaxAD(A,B) = ', argmaxAD(A,B), sep='' )\n",
        "print( 'SAD(A,B) = ', SAD(A,B), sep='' )\n",
        "print( 'SSD(A,B) = ', SSD(A,B), sep='' )\n",
        "print( 'EUC(A,B) = ', euc(A,B), sep='' )\n",
        "print( '𝑢𝐴𝐷(𝐴,𝐵) = ', 𝑢𝐴𝐷(𝐴,𝐵), sep='' )\n",
        "print( 'uSD(A,B) = ', uSD(A,B), sep='' )\n",
        "print( 'rmsd(A,B) = ',rmsd(A,B), sep='' )\n",
        "print( 'vLen(A) = ',vLen ( A ), sep='' )\n",
        "print( 'pcc(A,B) = ',pcc(A,B ), sep='' )"
      ],
      "execution_count": 111,
      "outputs": [
        {
          "output_type": "stream",
          "text": [
            "maxAD(A,A) = 0\n",
            "maxAD(A,B) = 18\n",
            "argmaxAD(A,B) = [1]\n",
            "SAD(A,B) = 27\n",
            "SSD(A,B) = 405\n",
            "EUC(A,B) = 20.12461179749811\n",
            "𝑢𝐴𝐷(𝐴,𝐵) = 6.75\n",
            "uSD(A,B) = 101.25\n",
            "rmsd(A,B) = 10.062305898749054\n",
            "vLen(A) = 5.477225575051661\n",
            "pcc(A,B) = -1.6081088228145464\n"
          ],
          "name": "stdout"
        }
      ]
    },
    {
      "cell_type": "markdown",
      "metadata": {
        "id": "Alglij39xQ6L",
        "colab_type": "text"
      },
      "source": [
        "---\n",
        "---"
      ]
    }
  ]
}